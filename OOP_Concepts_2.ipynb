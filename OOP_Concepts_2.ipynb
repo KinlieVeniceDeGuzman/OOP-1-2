{
  "nbformat": 4,
  "nbformat_minor": 0,
  "metadata": {
    "colab": {
      "name": "OOP Concepts 2.ipynb",
      "provenance": [],
      "authorship_tag": "ABX9TyOYwcgS+xNO88z5ve8CCykB",
      "include_colab_link": true
    },
    "kernelspec": {
      "name": "python3",
      "display_name": "Python 3"
    },
    "language_info": {
      "name": "python"
    }
  },
  "cells": [
    {
      "cell_type": "markdown",
      "metadata": {
        "id": "view-in-github",
        "colab_type": "text"
      },
      "source": [
        "<a href=\"https://colab.research.google.com/github/itz-kin/OOP-1-2/blob/main/OOP_Concepts_2.ipynb\" target=\"_parent\"><img src=\"https://colab.research.google.com/assets/colab-badge.svg\" alt=\"Open In Colab\"/></a>"
      ]
    },
    {
      "cell_type": "markdown",
      "source": [
        "OOP Concepts 2"
      ],
      "metadata": {
        "id": "83yQdiB2FP0h"
      }
    },
    {
      "cell_type": "code",
      "execution_count": 2,
      "metadata": {
        "colab": {
          "base_uri": "https://localhost:8080/"
        },
        "id": "M1xxz4qlDhgO",
        "outputId": "df2492ce-8c3f-4d0e-b351-44bff90800d4"
      },
      "outputs": [
        {
          "output_type": "stream",
          "name": "stdout",
          "text": [
            "Input full name of Student 1: Nina Dellon\n",
            "Grade for prelims: 93\n",
            "Grade for midterms: 88\n",
            "Grade for finals: 82\n",
            "Input full name of Student 2: Maricar Madriaga\n",
            "Grade for prelims: 91\n",
            "Grade for midterms: 80\n",
            "Grade for finals: 85\n",
            "Input full name of Student 3: Cath Lorio\n",
            "Grade for prelims: 93\n",
            "Grade for midterms: 95\n",
            "Grade for finals: 92\n",
            "Enter student full name (First name Last name):Maricar Madriaga\n",
            "Your average is: 85.33\n"
          ]
        }
      ],
      "source": [
        "class Person:\n",
        "  def __init__(self, std, pre, mid, fin):\n",
        "    self.__std = std\n",
        "    self.__pre = pre\n",
        "    self.__mid = mid\n",
        "    self.__fin = fin\n",
        "\n",
        "  def Grade(self):\n",
        "    return round((self.__pre + self.__mid + self.__fin)/3,2)\n",
        " \n",
        "class Student1(Person):\n",
        "  pass\n",
        "\n",
        "std1 = str(input(\"Input full name of Student 1: \"))\n",
        "pre1 = float(input(\"Grade for prelims: \"))\n",
        "mid1 = float(input(\"Grade for midterms: \"))\n",
        "fin1 = float(input(\"Grade for finals: \"))\n",
        "\n",
        "Student1 = Person(std1, pre1, mid1, fin1)\n",
        "\n",
        "class Student2(Person):\n",
        "  pass\n",
        "\n",
        "std2 = str(input(\"Input full name of Student 2: \"))\n",
        "pre2 = float(input(\"Grade for prelims: \"))\n",
        "mid2 = float(input(\"Grade for midterms: \"))\n",
        "fin2 = float(input(\"Grade for finals: \"))\n",
        "\n",
        "Student2 = Person(std2, pre2, mid2, fin2)\n",
        "\n",
        "\n",
        "class Student3(Person):\n",
        "  pass\n",
        "\n",
        "std3 = str(input(\"Input full name of Student 3: \"))\n",
        "pre3 = float(input(\"Grade for prelims: \"))\n",
        "mid3 = float(input(\"Grade for midterms: \"))\n",
        "fin3 = float(input(\"Grade for finals: \"))\n",
        "\n",
        "Student3 = Person(std3, pre3, mid3, fin3)\n",
        "\n",
        "\n",
        "Name = str(input(\"Enter student full name (First name Last name):\"))\n",
        "if Name == (std1):\n",
        "  print(\"Your average is:\", Student1.Grade())\n",
        "elif Name == (std2):\n",
        "  print(\"Your average is:\", Student2.Grade())\n",
        "elif Name == (std3):\n",
        "  print(\"Your average is:\", Student3.Grade())\n",
        "else:\n",
        " print(\"There is no student with that name\")"
      ]
    }
  ]
}