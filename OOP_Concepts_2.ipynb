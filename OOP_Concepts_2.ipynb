{
  "nbformat": 4,
  "nbformat_minor": 0,
  "metadata": {
    "colab": {
      "name": "OOP Concepts 2.ipynb",
      "provenance": [],
      "collapsed_sections": [],
      "authorship_tag": "ABX9TyNwNqIpBoJsK3lJG9iTFaXU",
      "include_colab_link": true
    },
    "kernelspec": {
      "name": "python3",
      "display_name": "Python 3"
    },
    "language_info": {
      "name": "python"
    }
  },
  "cells": [
    {
      "cell_type": "markdown",
      "metadata": {
        "id": "view-in-github",
        "colab_type": "text"
      },
      "source": [
        "<a href=\"https://colab.research.google.com/github/itz-kin/OOP-1-2/blob/main/OOP_Concepts_2.ipynb\" target=\"_parent\"><img src=\"https://colab.research.google.com/assets/colab-badge.svg\" alt=\"Open In Colab\"/></a>"
      ]
    },
    {
      "cell_type": "markdown",
      "source": [
        "Activity 3"
      ],
      "metadata": {
        "id": "OwwEOMd3WNif"
      }
    },
    {
      "cell_type": "code",
      "source": [
        "class Person:\n",
        "  def __init__(self, std, pre, mid, fin):\n",
        "    self.__std = std\n",
        "    self.__pre = pre\n",
        "    self.__mid = mid\n",
        "    self.__fin = fin\n",
        "\n",
        "  def Grade(self):\n",
        "    return round((self.__pre + self.__mid + self.__fin)/3,2)\n",
        " \n",
        "class Student1(Person):\n",
        "  pass\n",
        "\n",
        "std1 = str(input(\"Input full name of Student 1: \"))\n",
        "pre1 = float(input(\"Grade for prelims: \"))\n",
        "mid1 = float(input(\"Grade for midterms: \"))\n",
        "fin1 = float(input(\"Grade for finals: \"))\n",
        "\n",
        "Student1 = Person(std1, pre1, mid1, fin1)\n",
        "\n",
        "class Student2(Person):\n",
        "  pass\n",
        "\n",
        "std2 = str(input(\"Input full name of Student 2: \"))\n",
        "pre2 = float(input(\"Grade for prelims: \"))\n",
        "mid2 = float(input(\"Grade for midterms: \"))\n",
        "fin2 = float(input(\"Grade for finals: \"))\n",
        "\n",
        "Student2 = Person(std2, pre2, mid2, fin2)\n",
        "\n",
        "\n",
        "class Student3(Person):\n",
        "  pass\n",
        "\n",
        "std3 = str(input(\"Input full name of Student 3: \"))\n",
        "pre3 = float(input(\"Grade for prelims: \"))\n",
        "mid3 = float(input(\"Grade for midterms: \"))\n",
        "fin3 = float(input(\"Grade for finals: \"))\n",
        "\n",
        "Student3 = Person(std3, pre3, mid3, fin3)\n",
        "\n",
        "\n",
        "Name = str(input(\"Enter student full name (First name Last name):\"))\n",
        "if Name == (std1):\n",
        "  print(\"Your average is:\", Student1.Grade())\n",
        "elif Name == (std2):\n",
        "  print(\"Your average is:\", Student2.Grade())\n",
        "elif Name == (std3):\n",
        "  print(\"Your average is:\", Student3.Grade())\n",
        "else:\n",
        " print(\"There is no student with that name\")"
      ],
      "metadata": {
        "colab": {
          "base_uri": "https://localhost:8080/"
        },
        "outputId": "1e506e90-e830-4ff6-feba-c9836aa1d2aa",
        "id": "66yp0ldRtomQ"
      },
      "execution_count": 22,
      "outputs": [
        {
          "output_type": "stream",
          "name": "stdout",
          "text": [
            "Input full name of Student 1: Catherine Lorio\n",
            "Grade for prelims: 88\n",
            "Grade for midterms: 92\n",
            "Grade for finals: 94\n",
            "Input full name of Student 2: Maricar Madriaga\n",
            "Grade for prelims: 90\n",
            "Grade for midterms: 93\n",
            "Grade for finals: 95\n",
            "Input full name of Student 3: Nina Dellon\n",
            "Grade for prelims: 89\n",
            "Grade for midterms: 93\n",
            "Grade for finals: 97\n",
            "Enter student full name (First name Last name):Nina Dellon\n",
            "Your average is: 93.0\n"
          ]
        }
      ]
    },
    {
      "cell_type": "markdown",
      "source": [
        "Classes with Multiple Objects"
      ],
      "metadata": {
        "id": "S_yyKWK5bZN5"
      }
    },
    {
      "cell_type": "code",
      "execution_count": null,
      "metadata": {
        "id": "FtWb_kvJThyF",
        "colab": {
          "base_uri": "https://localhost:8080/"
        },
        "outputId": "f506fdbd-7b95-4727-bf2d-af32b5cbcb8e"
      },
      "outputs": [
        {
          "output_type": "stream",
          "name": "stdout",
          "text": [
            "Griffon Vulture flies above the sky\n",
            "Common Crane flies above the sky\n",
            "Emu is the national bird of the Philippines\n"
          ]
        }
      ],
      "source": [
        "class Birds:\n",
        "  def __init__(self,bird_name):\n",
        "    self.bird_name=bird_name\n",
        "\n",
        "  def flying_birds(self):\n",
        "    print(f\"{self.bird_name} flies above the sky\")\n",
        "\n",
        "  def non_flying_birds(self):\n",
        "    print(f\"{self.bird_name} is the national bird of the Philippines\")\n",
        "\n",
        "vulture = Birds(\"Griffon Vulture\")\n",
        "crane = Birds(\"Common Crane\")\n",
        "emu = Birds(\"Emu\")\n",
        "\n",
        "vulture.flying_birds()\n",
        "crane.flying_birds()\n",
        "emu.non_flying_birds()"
      ]
    },
    {
      "cell_type": "markdown",
      "source": [
        "Encapsulation"
      ],
      "metadata": {
        "id": "lGNT9C0lba_G"
      }
    },
    {
      "cell_type": "code",
      "source": [
        "class foo:\n",
        "  def __init__(self, a, b):\n",
        "    self.__a=a\n",
        "    self.__b=b\n",
        "  \n",
        "  def add(self):\n",
        "    return self.__a+self.__b\n",
        "\n",
        "number=foo(3,4)\n",
        "number.add()\n",
        "\n",
        "number.a=7 #7,7 7+4=11\n",
        "number.add()"
      ],
      "metadata": {
        "colab": {
          "base_uri": "https://localhost:8080/"
        },
        "id": "f-tStebwXdVB",
        "outputId": "874f2886-cea1-4e31-d3fc-76e7294bd24e"
      },
      "execution_count": null,
      "outputs": [
        {
          "output_type": "execute_result",
          "data": {
            "text/plain": [
              "7"
            ]
          },
          "metadata": {},
          "execution_count": 12
        }
      ]
    },
    {
      "cell_type": "markdown",
      "source": [
        "Encapsulation with Private Attributes"
      ],
      "metadata": {
        "id": "EQhew5BVZeH4"
      }
    },
    {
      "cell_type": "code",
      "source": [
        "class Counter:\n",
        "  def __init__(self):\n",
        "    self.__current=0\n",
        "\n",
        "  def increment(self):\n",
        "    self.__current+=1\n",
        "  def value(self):\n",
        "    return self.__current\n",
        "  def reset(self):\n",
        "    self.__current=0\n",
        "\n",
        "num = Counter()\n",
        "\n",
        "num.increment()     #counter = counter +1\n",
        "num.increment()\n",
        "num.increment()\n",
        "\n",
        "num.counter = 1\n",
        "\n",
        "\n",
        "num.value()"
      ],
      "metadata": {
        "colab": {
          "base_uri": "https://localhost:8080/"
        },
        "id": "Okh7WNPvWD9D",
        "outputId": "14072f61-67dc-48e2-b004-7a1ccc1be195"
      },
      "execution_count": null,
      "outputs": [
        {
          "output_type": "execute_result",
          "data": {
            "text/plain": [
              "3"
            ]
          },
          "metadata": {},
          "execution_count": 22
        }
      ]
    },
    {
      "cell_type": "markdown",
      "source": [
        "Inheritance"
      ],
      "metadata": {
        "id": "3OmVnuOBdIRE"
      }
    },
    {
      "cell_type": "code",
      "source": [
        "class Person:\n",
        "  def __init__(self, firstname, surname):\n",
        "    self.firstname = firstname\n",
        "    self.surname = surname\n",
        "\n",
        "  def printname(self):\n",
        "    print(self.firstname, self.surname)\n",
        "\n",
        "person = Person(\"Kinlie\", \"de Guzman\")\n",
        "person.printname()\n",
        "\n",
        "class Teacher(Person):\n",
        "  pass\n",
        "\n",
        "person2=Teacher(\"Maria\", \"Sayo\")\n",
        "person2.printname()\n",
        "\n",
        "class Student(Person):\n",
        "  pass\n",
        "\n",
        "person3 = Student(\"Jhoriz\", \"Aquino\")\n",
        "person3.printname()\n"
      ],
      "metadata": {
        "colab": {
          "base_uri": "https://localhost:8080/"
        },
        "id": "f6v5WTjLdJym",
        "outputId": "0bf16e90-11ea-4bb4-a7aa-e268eb86aeac"
      },
      "execution_count": null,
      "outputs": [
        {
          "output_type": "stream",
          "name": "stdout",
          "text": [
            "Kinlie de Guzman\n",
            "Maria Sayo\n",
            "Jhoriz Aquino\n"
          ]
        }
      ]
    },
    {
      "cell_type": "markdown",
      "source": [
        "Polymorphism"
      ],
      "metadata": {
        "id": "csmwvL--fOwA"
      }
    },
    {
      "cell_type": "code",
      "source": [
        "class RegularPolygon:\n",
        "  def __init__(self,side):\n",
        "    self.side = side\n",
        "\n",
        "class Square(RegularPolygon):\n",
        "  def area(self):\n",
        "    return self.side * self.side\n",
        "\n",
        "class EquilateralTriangle(RegularPolygon):\n",
        "  def area(self):\n",
        "    return self.side * self.side * 0.433\n",
        "\n",
        "object = Square(4)\n",
        "print(object.area())\n",
        "\n",
        "object2 = EquilateralTriangle(3)\n",
        "print(object2.area())"
      ],
      "metadata": {
        "colab": {
          "base_uri": "https://localhost:8080/"
        },
        "id": "Q_7XCaO_fP4g",
        "outputId": "ab6ea22c-529d-4a11-f370-28e04957610a"
      },
      "execution_count": null,
      "outputs": [
        {
          "output_type": "stream",
          "name": "stdout",
          "text": [
            "16\n",
            "3.897\n"
          ]
        }
      ]
    }
  ]
}