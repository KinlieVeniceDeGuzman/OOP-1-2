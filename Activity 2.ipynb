{
  "nbformat": 4,
  "nbformat_minor": 0,
  "metadata": {
    "colab": {
      "name": "Activity 2.ipynb",
      "provenance": [],
      "authorship_tag": "ABX9TyMMALrWTsZclknPOVTUUARy",
      "include_colab_link": true
    },
    "kernelspec": {
      "name": "python3",
      "display_name": "Python 3"
    },
    "language_info": {
      "name": "python"
    }
  },
  "cells": [
    {
      "cell_type": "markdown",
      "metadata": {
        "id": "view-in-github",
        "colab_type": "text"
      },
      "source": [
        "<a href=\"https://colab.research.google.com/github/itz-kin/OOP-1-2/blob/main/Activity%202.ipynb\" target=\"_parent\"><img src=\"https://colab.research.google.com/assets/colab-badge.svg\" alt=\"Open In Colab\"/></a>"
      ]
    },
    {
      "cell_type": "code",
      "execution_count": 15,
      "metadata": {
        "colab": {
          "base_uri": "https://localhost:8080/"
        },
        "id": "pm7NJMo-TmD3",
        "outputId": "d0d0d85f-fca7-4ffc-c3c8-5e5d14aa98f6"
      },
      "outputs": [
        {
          "output_type": "stream",
          "name": "stdout",
          "text": [
            "Input temperature in celsius: 36.8\n",
            "Temperature in fahrenheit: 98.24\n"
          ]
        }
      ],
      "source": [
        "#Write a python program that converts the temperature Celsius to Fahrenheit. Create a class name Temperature\n",
        "#Create Celsius as attribute name, Temp() as metho, and temp as object name.\n",
        "\n",
        "class Temperature:\n",
        "  def __init__(self,Celsius):\n",
        "    self.Celsius = Celsius\n",
        "\n",
        "  def Temp(self):\n",
        "    result = float((1.8 * self.Celsius)+ 32)\n",
        "    return result\n",
        "\n",
        "input_temp = float(input(\"Input temperature in celsius: \"))\n",
        "temp1 = Temperature(input_temp)\n",
        "print(\"Temperature in fahrenheit:\", round(temp1.Temp(),2))"
      ]
    },
    {
      "cell_type": "code",
      "source": [
        "#Define an Area() method of the class that calculates the circle’s area.\n",
        "#Define a Perimeter() method of the class which allows you to calculate the perimeter of the circle.\n",
        "\n",
        "import math\n",
        "class Circle:\n",
        "  def __init__(self,r):\n",
        "    self.Radius = r\n",
        "\n",
        "  def Area(self):\n",
        "    return ((self.Radius*self.Radius)*(math.pi))\n",
        "\n",
        "  def Perimeter(self):\n",
        "    return ((2*self.Radius)*(math.pi))\n",
        "\n",
        "input_Radius = float(input(\"Input Radius: \"))\n",
        "Circle1 = Circle(input_Radius)\n",
        "print(\"Area of circle:\", round(Circle1.Area(),2))\n",
        "print(\"Perimeter of circle:\", round(Circle1.Perimeter(),2))"
      ],
      "metadata": {
        "colab": {
          "base_uri": "https://localhost:8080/"
        },
        "id": "cylBIM6i3A-6",
        "outputId": "838529f1-5018-4b15-d2fc-b77b731b3c83"
      },
      "execution_count": 18,
      "outputs": [
        {
          "output_type": "stream",
          "name": "stdout",
          "text": [
            "Input Radius: 3\n",
            "Area of circle: 28.27\n",
            "Perimeter of circle: 18.85\n"
          ]
        }
      ]
    }
  ]
}