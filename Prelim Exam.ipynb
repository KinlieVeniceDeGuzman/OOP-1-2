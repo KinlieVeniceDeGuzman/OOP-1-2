{
  "nbformat": 4,
  "nbformat_minor": 0,
  "metadata": {
    "colab": {
      "name": "Prelim Exam.ipynb",
      "provenance": [],
      "authorship_tag": "ABX9TyOoWIOoGc4X5uCrglEvIylz",
      "include_colab_link": true
    },
    "kernelspec": {
      "name": "python3",
      "display_name": "Python 3"
    },
    "language_info": {
      "name": "python"
    }
  },
  "cells": [
    {
      "cell_type": "markdown",
      "metadata": {
        "id": "view-in-github",
        "colab_type": "text"
      },
      "source": [
        "<a href=\"https://colab.research.google.com/github/itz-kin/OOP-1-2/blob/main/Prelim%20Exam.ipynb\" target=\"_parent\"><img src=\"https://colab.research.google.com/assets/colab-badge.svg\" alt=\"Open In Colab\"/></a>"
      ]
    },
    {
      "cell_type": "markdown",
      "source": [
        "##Problem 2"
      ],
      "metadata": {
        "id": "94pSFv8WsCLz"
      }
    },
    {
      "cell_type": "code",
      "source": [
        "class Student:\n",
        "  def __init__(self, Name, Student_No, Age, School, Course):\n",
        "    self.Name = Name\n",
        "    self.Student_No = Student_No\n",
        "    self.Age = Age\n",
        "    self.School = School\n",
        "    self.Course = Course\n",
        "\n",
        "  def Info(self):\n",
        "    print(\"\\n\", \"Good day! My name is\", self.Name,\n",
        "          \"\\n\", \"My student number is\", self.Student_No,\n",
        "          \"\\n\", \"I am\", self.Age, \"years old\",\n",
        "          \"\\n\", \"I am currently studying at\", self.School, \"and I am taking\", self.Course)\n",
        "\n",
        "Myself = Student(\"Kinlie Venice L. de Guzman\", \"202101551\", \"18\", \"Cavite State University (Main Campus)\", \"Computer Engineering\")\n",
        "Myself.Info()"
      ],
      "metadata": {
        "colab": {
          "base_uri": "https://localhost:8080/"
        },
        "id": "Ck7p3snGlFr2",
        "outputId": "458f5a40-0e96-4443-c4d0-03285fa20fe1"
      },
      "execution_count": 9,
      "outputs": [
        {
          "output_type": "stream",
          "name": "stdout",
          "text": [
            "\n",
            " Good day! My name is Kinlie Venice L. de Guzman \n",
            " My student number is 202101551 \n",
            " I am 18 years old \n",
            " I am currently studying at Cavite State University (Main Campus) and I am taking Computer Engineering\n"
          ]
        }
      ]
    }
  ]
}