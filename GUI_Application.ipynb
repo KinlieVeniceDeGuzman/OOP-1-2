{
  "nbformat": 4,
  "nbformat_minor": 0,
  "metadata": {
    "colab": {
      "name": "GUI Application.ipynb",
      "provenance": [],
      "authorship_tag": "ABX9TyMepBUSWAmJFDMBHhaILjQc",
      "include_colab_link": true
    },
    "kernelspec": {
      "name": "python3",
      "display_name": "Python 3"
    },
    "language_info": {
      "name": "python"
    }
  },
  "cells": [
    {
      "cell_type": "markdown",
      "metadata": {
        "id": "view-in-github",
        "colab_type": "text"
      },
      "source": [
        "<a href=\"https://colab.research.google.com/github/itz-kin/OOP-1-2/blob/main/GUI_Application.ipynb\" target=\"_parent\"><img src=\"https://colab.research.google.com/assets/colab-badge.svg\" alt=\"Open In Colab\"/></a>"
      ]
    },
    {
      "cell_type": "code",
      "execution_count": 9,
      "metadata": {
        "colab": {
          "base_uri": "https://localhost:8080/"
        },
        "id": "jleLYtLfuZr3",
        "outputId": "c01a91b3-1f4b-405e-d120-7e4f45bbd170"
      },
      "outputs": [
        {
          "output_type": "stream",
          "name": "stdout",
          "text": [
            "The prelim grade of student 1 is 95\n",
            "The midterm grade of student 1 is 90\n",
            "The final grade of student 1 is 100\n",
            "The semestral grade of student 1 is 95.0\n",
            "95.0\n",
            "Their gender is Female\n"
          ]
        }
      ],
      "source": [
        "#@title Students Grade in OOP\n",
        "\n",
        "Student_Name1 = \"Enter the student name\" #@param {type: 'string'}\n",
        "prelim = 95#@param {type: 'number'}\n",
        "midterm = 90#@param {type: 'number'}\n",
        "final = 100#@param {type: 'number'}\n",
        "semestral_grade = (prelim+midterm+final)/3\n",
        "\n",
        "print(\"The prelim grade of student 1 is\"+\" \"+str(prelim))\n",
        "print(\"The midterm grade of student 1 is\"+\" \"+str(midterm))\n",
        "print(\"The final grade of student 1 is\"+\" \"+str(final))\n",
        "print(\"The semestral grade of student 1 is\"+\" \"+str(semestral_grade))\n",
        "print(semestral_grade)\n",
        "\n",
        "#@title Gender\n",
        "Gender = \"Female\" #@param[\"Male\", \"Female\"]\n",
        "print(\"Their gender is\"+\" \"+Gender)\n",
        "\n",
        "Birthdate = '2022-04-07' #@param {type: 'date'}"
      ]
    },
    {
      "cell_type": "code",
      "source": [
        ""
      ],
      "metadata": {
        "id": "43X2nJ2qutIE"
      },
      "execution_count": null,
      "outputs": []
    }
  ]
}